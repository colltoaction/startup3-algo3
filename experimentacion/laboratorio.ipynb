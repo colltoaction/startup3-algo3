{
 "cells": [
  {
   "cell_type": "code",
   "execution_count": null,
   "metadata": {
    "collapsed": true
   },
   "outputs": [],
   "source": [
    "# -*- coding: utf-8 -*-\n",
    "import pandas as pd\n",
    "import sys\n",
    "sys.path.append('/usr/local/lib/python2.7/dist-packages')\n",
    "import seaborn as sns\n",
    "import matplotlib.pyplot as plt\n",
    "import numpy as np\n",
    "from scipy import stats\n",
    "import random"
   ]
  },
  {
   "cell_type": "markdown",
   "metadata": {},
   "source": [
    "# Compilemos el archivo"
   ]
  },
  {
   "cell_type": "code",
   "execution_count": null,
   "metadata": {
    "collapsed": true
   },
   "outputs": [],
   "source": [
    "! cd ../genetico && make main_test"
   ]
  },
  {
   "cell_type": "code",
   "execution_count": null,
   "metadata": {
    "collapsed": true
   },
   "outputs": [],
   "source": [
    "#Definimos los parametros que vamos a usar para las experimentaciones\n",
    "\n",
    "rows = 6 \n",
    "cols = 7\n",
    "c = 4\n",
    "pieces = 21\n",
    "amountOfSurvivors = 10\n",
    "populationSize = 100\n",
    "games = 50\n",
    "pc = 0.8\n",
    "pm = 0.05\n",
    "t = 0.5\n",
    "mr = 1.0\n",
    "pRandomMating = 0.01\n",
    "fitnessFunction = 1\n",
    "alpha = 0.5\n",
    "extinctionRate = 500\n",
    "generations = 100\n",
    "\n",
    "#Esto es un helper, no lo borro porque porahi sirve mas adelante, pero no se usa.\n",
    "callingArgument = str(rows) + ' ' + str(cols) + ' ' + str(c)+ ' ' + str(pieces)+ ' ' + str(amountOfSurvivors)+ ' ' + str(populationSize)+ ' ' + str(games)+ ' ' + str(pc)+ ' ' + str(pm)+ ' ' + str(t)+ ' ' + str(mr)+ ' ' + str(pRandomMating)+ ' ' + str(fitnessFunction)+ ' ' + str(alpha)+ ' ' + str(extinctionRate)+ ' ' + str(generations)\n",
    "callingArgument"
   ]
  },
  {
   "cell_type": "code",
   "execution_count": null,
   "metadata": {
    "collapsed": true
   },
   "outputs": [],
   "source": [
    "#Definamos una funcion a la que le pasamos un archivo y si queremos info sobre quien fue el rival. \n",
    "#Nos va a graficar la media y la varianza\n",
    "\n",
    "def graphFitness(fileName, moreInfo,rival):\n",
    "    dfResultados = pd.read_csv(fileName, delimiter=\";\")\n",
    "    dfVariance = dfResultados.groupby('Generation').var()\n",
    "    dfMean = dfResultados.groupby('Generation').mean()\n",
    "\n",
    "    ax = dfMean.plot(logy=False)\n",
    "    ax.set_ylabel(\"Media de la Fitness\")\n",
    "    ax.set_xlabel(\"Generacion\")    \n",
    "    title = \"Media de la Fitness en funcion de la generacion\" + ((\" contra un rival \" + rival) if moreInfo else \"\")\n",
    "    plt.title(title)\n",
    "    plt.show()\n",
    "\n",
    "\n",
    "    ax = dfVariance.plot(logy=False)\n",
    "    ax.set_ylabel(\"Varianza de la Fitness\")\n",
    "    title = \"Varianza de la Fitness en funcion de la generacion\" + ((\" contra un rival \" + rival) if moreInfo else \"\")\n",
    "    plt.title(title)\n",
    "    plt.show()\n",
    "    \n",
    "def graphMoves(fileName, moreInfo,rival):\n",
    "    dfResultados = pd.read_csv(fileName, delimiter=\";\")\n",
    "    dfVariance = dfResultados.groupby('Generation').var()\n",
    "    dfMean = dfResultados.groupby('Generation').mean()\n",
    "\n",
    "    ax = dfMean.plot(logy=False, figsize=[9,9])\n",
    "    ax.set_ylabel(\"Media de la cantidad promedio de jugadas\")\n",
    "    ax.set_xlabel(\"Generacion\")    \n",
    "    title = \"Media de la cantidad de movimientos en funcion de la generacion\" + ((\" con funcion de fitness: \" + rival) if moreInfo else \"\")\n",
    "    \n",
    "    for item in ([ax.title, ax.xaxis.label, ax.yaxis.label] +\n",
    "             ax.get_xticklabels() + ax.get_yticklabels()):\n",
    "        item.set_fontsize(14)\n",
    "    plt.title(title)\n",
    "    plt.show()\n",
    "\n",
    "\n",
    "#     ax = dfVariance.plot(logy=False)\n",
    "#     ax.set_ylabel(\"Varianza de la cantidad promedio de jugadas\")\n",
    "#     title = \"Varianza de la cantidad de movimientos en funcion de la generacion\" + ((\" contra un rival \" + rival) if moreInfo else \"\")\n",
    "#     plt.title(title)\n",
    "#     plt.show()"
   ]
  },
  {
   "cell_type": "markdown",
   "metadata": {},
   "source": [
    "# Versus un rival random"
   ]
  },
  {
   "cell_type": "code",
   "execution_count": null,
   "metadata": {
    "collapsed": true
   },
   "outputs": [],
   "source": [
    "! RIVAL=RANDOM ../genetico/main_test $rows $cols $c $pieces $amountOfSurvivors $populationSize $games $pc $pm $t $mr $pRandomMating $fitnessFunction $alpha $extinctionRate $generations"
   ]
  },
  {
   "cell_type": "code",
   "execution_count": null,
   "metadata": {
    "collapsed": true
   },
   "outputs": [],
   "source": [
    "graphFitness('./fitness_RANDOM_population25.txt',True,\"random\")"
   ]
  },
  {
   "cell_type": "markdown",
   "metadata": {},
   "source": [
    "# Versus un rival de su propia generacion"
   ]
  },
  {
   "cell_type": "code",
   "execution_count": null,
   "metadata": {
    "collapsed": true
   },
   "outputs": [],
   "source": [
    "! RIVAL=ANCESTORS ../genetico/main_test $rows $cols $c $pieces $amountOfSurvivors $populationSize $games $pc $pm $t $mr $pRandomMating $fitnessFunction $alpha $extinctionRate $generations"
   ]
  },
  {
   "cell_type": "code",
   "execution_count": null,
   "metadata": {
    "collapsed": true
   },
   "outputs": [],
   "source": [
    "graphFitness('./fitness_ANCESTORS_population25.txt',True,\"ancestral\")"
   ]
  },
  {
   "cell_type": "markdown",
   "metadata": {},
   "source": [
    "# Versus un minimax acotado"
   ]
  },
  {
   "cell_type": "code",
   "execution_count": null,
   "metadata": {
    "collapsed": true
   },
   "outputs": [],
   "source": [
    "! RIVAL=MINIMAX ../genetico/main_test $rows $cols $c $pieces $amountOfSurvivors $populationSize $games $pc $pm $t $mr $pRandomMating $fitnessFunction $alpha $extinctionRate $generations"
   ]
  },
  {
   "cell_type": "code",
   "execution_count": null,
   "metadata": {
    "collapsed": true
   },
   "outputs": [],
   "source": [
    "graphFitness('./fitness_MINIMAX_population25.txt',True,\"minimax acotado\")"
   ]
  },
  {
   "cell_type": "markdown",
   "metadata": {
    "collapsed": true
   },
   "source": [
    "# Versus partidos de cada uno: random, ancestors y minimax. Un tercio cada uno"
   ]
  },
  {
   "cell_type": "code",
   "execution_count": null,
   "metadata": {
    "collapsed": true
   },
   "outputs": [],
   "source": [
    "! RIVAL=MIXED ../genetico/main_test $rows $cols $c $pieces $amountOfSurvivors $populationSize $games $pc $pm $t $mr $pRandomMating $fitnessFunction $alpha $extinctionRate $generations"
   ]
  },
  {
   "cell_type": "code",
   "execution_count": null,
   "metadata": {},
   "outputs": [],
   "source": [
    "graphFitness('./fitness_MIXED_population100.txt',True,\"minimax acotado\")"
   ]
  },
  {
   "cell_type": "markdown",
   "metadata": {},
   "source": [
    "# Experimentacion Number of Moves"
   ]
  },
  {
   "cell_type": "code",
   "execution_count": null,
   "metadata": {
    "collapsed": true
   },
   "outputs": [],
   "source": [
    "for i in [1,2]:\n",
    "    graphMoves('./moves_function{}.txt'.format(i),True,\"{}\".format(i))"
   ]
  },
  {
   "cell_type": "markdown",
   "metadata": {
    "collapsed": true
   },
   "source": [
    "# Experimentacion GridSearch"
   ]
  },
  {
   "cell_type": "code",
   "execution_count": null,
   "metadata": {
    "collapsed": true
   },
   "outputs": [],
   "source": [
    "def makeThemPlay(playerOne, playerTwo):\n",
    "    !rm -rf ./log && python2 ../juez/c_linea.py\\\n",
    "            --blue_player $playerOne\\\n",
    "            --red_player $playerTwo\\\n",
    "            --iterations 1000\\\n",
    "            --columns 7 --rows 6 --p 21 --c 4 1>/dev/null 2> /dev/null\n",
    "    \n",
    "    file  = open('./log/player_communicator_azul.log', 'r').read()\n",
    "    countBlueWins = file.count('ganaste')/10\n",
    "    \n",
    "    file  = open('./log/player_communicator_rojo.log', 'r').read()\n",
    "    countRedWins = file.count('ganaste')/10\n",
    "    \n",
    "    return {\n",
    "        'playerOneWins': countBlueWins,\n",
    "        'playerTwoWins': countRedWins\n",
    "    }\n",
    "\n",
    "\n",
    "def plot(arr,rival_name):\n",
    "    time = pd.DataFrame([arr], columns=['Substep 2 Wins', 'Substep 3 Wins', 'Substep 4 Wins','Substep 5 Wins'])\n",
    "    ax = time.plot(kind='Bar',figsize=[10,10])\n",
    "    ax.set_ylabel('victorias')\n",
    "    plt.title(\"Cantidad de victorias contra {}\".format(rival_name))\n",
    "    plt.show()\n",
    "\n"
   ]
  },
  {
   "cell_type": "code",
   "execution_count": null,
   "metadata": {
    "scrolled": false
   },
   "outputs": [],
   "source": [
    "def gridSensei(i):\n",
    "    return {'path':'../cmake-build-debug/gridSensei_{}'.format(i), \n",
    "            'name':'Grid Player Substep {}'.format(i)\n",
    "           }\n",
    "\n",
    "catedraPlayer = {'path':'python2 ../juez/PlayerController.py', 'name': 'Jugador de la Catedra'}\n",
    "geneticPlayer = {'path': '../cmake-build-debug/geneticPlayer','name':'Genetic Player'}\n",
    "randomPlayer ={'path': '../cmake-build-debug/random_player','name':'Random Player'}\n",
    "\n",
    "def playAgainstAndPlotIt(rival):\n",
    "    arr = []\n",
    "    for i in [2,3,4,5]:\n",
    "        arr.append(makeThemPlay(gridSensei(i)['path'],rival['path'])['playerOneWins'])\n",
    "\n",
    "    plot(arr,rival['name'])\n",
    "\n",
    "playAgainstAndPlotIt(randomPlayer)\n",
    "playAgainstAndPlotIt(catedraPlayer)\n",
    "playAgainstAndPlotIt(geneticPlayer)\n",
    "\n",
    "\n",
    "for i in [2,3,4,5]:\n",
    "    playAgainstAndPlotIt(gridSensei(i))\n",
    "\n",
    "    \n",
    "\n"
   ]
  },
  {
   "cell_type": "code",
   "execution_count": null,
   "metadata": {
    "collapsed": true
   },
   "outputs": [],
   "source": [
    "playAgainstAndPlotIt(randomPlayer)"
   ]
  },
  {
   "cell_type": "code",
   "execution_count": null,
   "metadata": {},
   "outputs": [],
   "source": [
    "playAgainstAndPlotIt(catedraPlayer)\n"
   ]
  },
  {
   "cell_type": "code",
   "execution_count": null,
   "metadata": {},
   "outputs": [],
   "source": [
    "playAgainstAndPlotIt(geneticPlayer)"
   ]
  },
  {
   "cell_type": "code",
   "execution_count": null,
   "metadata": {
    "scrolled": false
   },
   "outputs": [],
   "source": [
    "for i in [2,3,4,5]:\n",
    "    playAgainstAndPlotIt(gridSensei(i))"
   ]
  },
  {
   "cell_type": "markdown",
   "metadata": {},
   "source": [
    "# Comparar el genetico contra el de la catedra"
   ]
  },
  {
   "cell_type": "code",
   "execution_count": null,
   "metadata": {},
   "outputs": [],
   "source": [
    "\n",
    "\n",
    "def plotBenchmark(arr,rival_name):\n",
    "    wins = pd.DataFrame([arr], columns=['Genetic'])\n",
    "    ax = wins.plot(kind='Bar',figsize=[10,10], fontsize=20)\n",
    "    ax.set_ylabel('victorias')\n",
    "    ax = plt.subplot(111, xlabel='x', ylabel='y', title='title')\n",
    "#     for item in ([ax.title, ax.xaxis.label, ax.yaxis.label] +\n",
    "#                  ax.get_xticklabels() + ax.get_yticklabels()):\n",
    "#         item.set_fontsize(20)\n",
    "    plt.title(\"Cantidad de victorias contra {}\".format(rival_name))\n",
    "    plt.show()\n",
    "    \n",
    "arr = []\n",
    "arr.append(makeThemPlay(geneticPlayer['path'],catedraPlayer['path'])['playerOneWins'])\n",
    "plotBenchmark(arr,catedraPlayer['name'])\n"
   ]
  },
  {
   "cell_type": "code",
   "execution_count": null,
   "metadata": {
    "collapsed": true
   },
   "outputs": [],
   "source": []
  }
 ],
 "metadata": {
  "kernelspec": {
   "display_name": "Python 3",
   "language": "python",
   "name": "python3"
  },
  "language_info": {
   "codemirror_mode": {
    "name": "ipython",
    "version": 3
   },
   "file_extension": ".py",
   "mimetype": "text/x-python",
   "name": "python",
   "nbconvert_exporter": "python",
   "pygments_lexer": "ipython3",
   "version": "3.6.1"
  }
 },
 "nbformat": 4,
 "nbformat_minor": 2
}
